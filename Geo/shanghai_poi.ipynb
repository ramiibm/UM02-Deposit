{
 "cells": [
  {
   "cell_type": "code",
   "execution_count": 10,
   "metadata": {},
   "outputs": [],
   "source": [
    "import pandas as pd"
   ]
  },
  {
   "cell_type": "code",
   "execution_count": 11,
   "metadata": {},
   "outputs": [],
   "source": [
    "df = pd.read_csv('ShanghaiPOI2017-clean.csv', index_col=0)"
   ]
  },
  {
   "cell_type": "code",
   "execution_count": 12,
   "metadata": {},
   "outputs": [
    {
     "data": {
      "text/html": [
       "<div>\n",
       "<style scoped>\n",
       "    .dataframe tbody tr th:only-of-type {\n",
       "        vertical-align: middle;\n",
       "    }\n",
       "\n",
       "    .dataframe tbody tr th {\n",
       "        vertical-align: top;\n",
       "    }\n",
       "\n",
       "    .dataframe thead th {\n",
       "        text-align: right;\n",
       "    }\n",
       "</style>\n",
       "<table border=\"1\" class=\"dataframe\">\n",
       "  <thead>\n",
       "    <tr style=\"text-align: right;\">\n",
       "      <th></th>\n",
       "      <th>ID</th>\n",
       "      <th>GPSX</th>\n",
       "      <th>GPSY</th>\n",
       "      <th>GBCODE</th>\n",
       "    </tr>\n",
       "  </thead>\n",
       "  <tbody>\n",
       "    <tr>\n",
       "      <th>0</th>\n",
       "      <td>1.0</td>\n",
       "      <td>121.296368</td>\n",
       "      <td>31.188324</td>\n",
       "      <td>990000.0</td>\n",
       "    </tr>\n",
       "    <tr>\n",
       "      <th>1</th>\n",
       "      <td>1.0</td>\n",
       "      <td>121.473360</td>\n",
       "      <td>31.228923</td>\n",
       "      <td>990000.0</td>\n",
       "    </tr>\n",
       "    <tr>\n",
       "      <th>2</th>\n",
       "      <td>1.0</td>\n",
       "      <td>121.399378</td>\n",
       "      <td>31.205028</td>\n",
       "      <td>990000.0</td>\n",
       "    </tr>\n",
       "    <tr>\n",
       "      <th>3</th>\n",
       "      <td>1.0</td>\n",
       "      <td>121.529628</td>\n",
       "      <td>31.271063</td>\n",
       "      <td>990000.0</td>\n",
       "    </tr>\n",
       "    <tr>\n",
       "      <th>4</th>\n",
       "      <td>2.0</td>\n",
       "      <td>121.169185</td>\n",
       "      <td>31.282332</td>\n",
       "      <td>990000.0</td>\n",
       "    </tr>\n",
       "  </tbody>\n",
       "</table>\n",
       "</div>"
      ],
      "text/plain": [
       "    ID        GPSX       GPSY    GBCODE\n",
       "0  1.0  121.296368  31.188324  990000.0\n",
       "1  1.0  121.473360  31.228923  990000.0\n",
       "2  1.0  121.399378  31.205028  990000.0\n",
       "3  1.0  121.529628  31.271063  990000.0\n",
       "4  2.0  121.169185  31.282332  990000.0"
      ]
     },
     "execution_count": 12,
     "metadata": {},
     "output_type": "execute_result"
    }
   ],
   "source": [
    "df.head()"
   ]
  },
  {
   "cell_type": "code",
   "execution_count": 14,
   "metadata": {},
   "outputs": [],
   "source": [
    "sub_df = df[df['GBCODE'] == 150401]"
   ]
  },
  {
   "cell_type": "code",
   "execution_count": 19,
   "metadata": {},
   "outputs": [
    {
     "data": {
      "text/plain": [
       "196"
      ]
     },
     "execution_count": 19,
     "metadata": {},
     "output_type": "execute_result"
    }
   ],
   "source": [
    "len(sub_df)"
   ]
  },
  {
   "cell_type": "code",
   "execution_count": 22,
   "metadata": {},
   "outputs": [
    {
     "data": {
      "text/html": [
       "<div>\n",
       "<style scoped>\n",
       "    .dataframe tbody tr th:only-of-type {\n",
       "        vertical-align: middle;\n",
       "    }\n",
       "\n",
       "    .dataframe tbody tr th {\n",
       "        vertical-align: top;\n",
       "    }\n",
       "\n",
       "    .dataframe thead th {\n",
       "        text-align: right;\n",
       "    }\n",
       "</style>\n",
       "<table border=\"1\" class=\"dataframe\">\n",
       "  <thead>\n",
       "    <tr style=\"text-align: right;\">\n",
       "      <th></th>\n",
       "      <th>ID</th>\n",
       "      <th>GPSX</th>\n",
       "      <th>GPSY</th>\n",
       "      <th>GBCODE</th>\n",
       "    </tr>\n",
       "  </thead>\n",
       "  <tbody>\n",
       "    <tr>\n",
       "      <th>1005481</th>\n",
       "      <td>1646.0</td>\n",
       "      <td>121.607451</td>\n",
       "      <td>31.214867</td>\n",
       "      <td>150401.0</td>\n",
       "    </tr>\n",
       "    <tr>\n",
       "      <th>1005482</th>\n",
       "      <td>1646.0</td>\n",
       "      <td>121.495161</td>\n",
       "      <td>31.236947</td>\n",
       "      <td>150401.0</td>\n",
       "    </tr>\n",
       "    <tr>\n",
       "      <th>1005483</th>\n",
       "      <td>1646.0</td>\n",
       "      <td>121.467337</td>\n",
       "      <td>31.345557</td>\n",
       "      <td>150401.0</td>\n",
       "    </tr>\n",
       "    <tr>\n",
       "      <th>1005484</th>\n",
       "      <td>1646.0</td>\n",
       "      <td>121.615061</td>\n",
       "      <td>31.157110</td>\n",
       "      <td>150401.0</td>\n",
       "    </tr>\n",
       "    <tr>\n",
       "      <th>1005485</th>\n",
       "      <td>1646.0</td>\n",
       "      <td>121.409944</td>\n",
       "      <td>31.212765</td>\n",
       "      <td>150401.0</td>\n",
       "    </tr>\n",
       "  </tbody>\n",
       "</table>\n",
       "</div>"
      ],
      "text/plain": [
       "             ID        GPSX       GPSY    GBCODE\n",
       "1005481  1646.0  121.607451  31.214867  150401.0\n",
       "1005482  1646.0  121.495161  31.236947  150401.0\n",
       "1005483  1646.0  121.467337  31.345557  150401.0\n",
       "1005484  1646.0  121.615061  31.157110  150401.0\n",
       "1005485  1646.0  121.409944  31.212765  150401.0"
      ]
     },
     "execution_count": 22,
     "metadata": {},
     "output_type": "execute_result"
    }
   ],
   "source": [
    "sub_df.head()"
   ]
  },
  {
   "cell_type": "code",
   "execution_count": 26,
   "metadata": {},
   "outputs": [
    {
     "name": "stderr",
     "output_type": "stream",
     "text": [
      "/Users/rami/anaconda3/lib/python3.7/site-packages/ipykernel_launcher.py:1: SettingWithCopyWarning: \n",
      "A value is trying to be set on a copy of a slice from a DataFrame.\n",
      "Try using .loc[row_indexer,col_indexer] = value instead\n",
      "\n",
      "See the caveats in the documentation: http://pandas.pydata.org/pandas-docs/stable/indexing.html#indexing-view-versus-copy\n",
      "  \"\"\"Entry point for launching an IPython kernel.\n"
     ]
    }
   ],
   "source": [
    "sub_df['Longitude'] = sub_df['GPSX']"
   ]
  },
  {
   "cell_type": "code",
   "execution_count": 27,
   "metadata": {},
   "outputs": [
    {
     "name": "stderr",
     "output_type": "stream",
     "text": [
      "/Users/rami/anaconda3/lib/python3.7/site-packages/ipykernel_launcher.py:1: SettingWithCopyWarning: \n",
      "A value is trying to be set on a copy of a slice from a DataFrame.\n",
      "Try using .loc[row_indexer,col_indexer] = value instead\n",
      "\n",
      "See the caveats in the documentation: http://pandas.pydata.org/pandas-docs/stable/indexing.html#indexing-view-versus-copy\n",
      "  \"\"\"Entry point for launching an IPython kernel.\n"
     ]
    }
   ],
   "source": [
    "sub_df['Latitude'] = sub_df['GPSY']"
   ]
  },
  {
   "cell_type": "code",
   "execution_count": 28,
   "metadata": {},
   "outputs": [
    {
     "data": {
      "text/html": [
       "<div>\n",
       "<style scoped>\n",
       "    .dataframe tbody tr th:only-of-type {\n",
       "        vertical-align: middle;\n",
       "    }\n",
       "\n",
       "    .dataframe tbody tr th {\n",
       "        vertical-align: top;\n",
       "    }\n",
       "\n",
       "    .dataframe thead th {\n",
       "        text-align: right;\n",
       "    }\n",
       "</style>\n",
       "<table border=\"1\" class=\"dataframe\">\n",
       "  <thead>\n",
       "    <tr style=\"text-align: right;\">\n",
       "      <th></th>\n",
       "      <th>ID</th>\n",
       "      <th>GPSX</th>\n",
       "      <th>GPSY</th>\n",
       "      <th>GBCODE</th>\n",
       "      <th>Longitude</th>\n",
       "      <th>Latitude</th>\n",
       "    </tr>\n",
       "  </thead>\n",
       "  <tbody>\n",
       "    <tr>\n",
       "      <th>1005481</th>\n",
       "      <td>1646.0</td>\n",
       "      <td>121.607451</td>\n",
       "      <td>31.214867</td>\n",
       "      <td>150401.0</td>\n",
       "      <td>121.607451</td>\n",
       "      <td>31.214867</td>\n",
       "    </tr>\n",
       "    <tr>\n",
       "      <th>1005482</th>\n",
       "      <td>1646.0</td>\n",
       "      <td>121.495161</td>\n",
       "      <td>31.236947</td>\n",
       "      <td>150401.0</td>\n",
       "      <td>121.495161</td>\n",
       "      <td>31.236947</td>\n",
       "    </tr>\n",
       "    <tr>\n",
       "      <th>1005483</th>\n",
       "      <td>1646.0</td>\n",
       "      <td>121.467337</td>\n",
       "      <td>31.345557</td>\n",
       "      <td>150401.0</td>\n",
       "      <td>121.467337</td>\n",
       "      <td>31.345557</td>\n",
       "    </tr>\n",
       "    <tr>\n",
       "      <th>1005484</th>\n",
       "      <td>1646.0</td>\n",
       "      <td>121.615061</td>\n",
       "      <td>31.157110</td>\n",
       "      <td>150401.0</td>\n",
       "      <td>121.615061</td>\n",
       "      <td>31.157110</td>\n",
       "    </tr>\n",
       "    <tr>\n",
       "      <th>1005485</th>\n",
       "      <td>1646.0</td>\n",
       "      <td>121.409944</td>\n",
       "      <td>31.212765</td>\n",
       "      <td>150401.0</td>\n",
       "      <td>121.409944</td>\n",
       "      <td>31.212765</td>\n",
       "    </tr>\n",
       "  </tbody>\n",
       "</table>\n",
       "</div>"
      ],
      "text/plain": [
       "             ID        GPSX       GPSY    GBCODE   Longitude   Latitude\n",
       "1005481  1646.0  121.607451  31.214867  150401.0  121.607451  31.214867\n",
       "1005482  1646.0  121.495161  31.236947  150401.0  121.495161  31.236947\n",
       "1005483  1646.0  121.467337  31.345557  150401.0  121.467337  31.345557\n",
       "1005484  1646.0  121.615061  31.157110  150401.0  121.615061  31.157110\n",
       "1005485  1646.0  121.409944  31.212765  150401.0  121.409944  31.212765"
      ]
     },
     "execution_count": 28,
     "metadata": {},
     "output_type": "execute_result"
    }
   ],
   "source": [
    "sub_df.head()"
   ]
  },
  {
   "cell_type": "code",
   "execution_count": 29,
   "metadata": {},
   "outputs": [],
   "source": [
    "del sub_df['GPSX']"
   ]
  },
  {
   "cell_type": "code",
   "execution_count": 30,
   "metadata": {},
   "outputs": [],
   "source": [
    "del sub_df['GPSY']"
   ]
  },
  {
   "cell_type": "code",
   "execution_count": 31,
   "metadata": {},
   "outputs": [
    {
     "data": {
      "text/html": [
       "<div>\n",
       "<style scoped>\n",
       "    .dataframe tbody tr th:only-of-type {\n",
       "        vertical-align: middle;\n",
       "    }\n",
       "\n",
       "    .dataframe tbody tr th {\n",
       "        vertical-align: top;\n",
       "    }\n",
       "\n",
       "    .dataframe thead th {\n",
       "        text-align: right;\n",
       "    }\n",
       "</style>\n",
       "<table border=\"1\" class=\"dataframe\">\n",
       "  <thead>\n",
       "    <tr style=\"text-align: right;\">\n",
       "      <th></th>\n",
       "      <th>ID</th>\n",
       "      <th>GBCODE</th>\n",
       "      <th>Longitude</th>\n",
       "      <th>Latitude</th>\n",
       "    </tr>\n",
       "  </thead>\n",
       "  <tbody>\n",
       "    <tr>\n",
       "      <th>1005481</th>\n",
       "      <td>1646.0</td>\n",
       "      <td>150401.0</td>\n",
       "      <td>121.607451</td>\n",
       "      <td>31.214867</td>\n",
       "    </tr>\n",
       "    <tr>\n",
       "      <th>1005482</th>\n",
       "      <td>1646.0</td>\n",
       "      <td>150401.0</td>\n",
       "      <td>121.495161</td>\n",
       "      <td>31.236947</td>\n",
       "    </tr>\n",
       "    <tr>\n",
       "      <th>1005483</th>\n",
       "      <td>1646.0</td>\n",
       "      <td>150401.0</td>\n",
       "      <td>121.467337</td>\n",
       "      <td>31.345557</td>\n",
       "    </tr>\n",
       "    <tr>\n",
       "      <th>1005484</th>\n",
       "      <td>1646.0</td>\n",
       "      <td>150401.0</td>\n",
       "      <td>121.615061</td>\n",
       "      <td>31.157110</td>\n",
       "    </tr>\n",
       "    <tr>\n",
       "      <th>1005485</th>\n",
       "      <td>1646.0</td>\n",
       "      <td>150401.0</td>\n",
       "      <td>121.409944</td>\n",
       "      <td>31.212765</td>\n",
       "    </tr>\n",
       "  </tbody>\n",
       "</table>\n",
       "</div>"
      ],
      "text/plain": [
       "             ID    GBCODE   Longitude   Latitude\n",
       "1005481  1646.0  150401.0  121.607451  31.214867\n",
       "1005482  1646.0  150401.0  121.495161  31.236947\n",
       "1005483  1646.0  150401.0  121.467337  31.345557\n",
       "1005484  1646.0  150401.0  121.615061  31.157110\n",
       "1005485  1646.0  150401.0  121.409944  31.212765"
      ]
     },
     "execution_count": 31,
     "metadata": {},
     "output_type": "execute_result"
    }
   ],
   "source": [
    "sub_df.head()"
   ]
  },
  {
   "cell_type": "code",
   "execution_count": 32,
   "metadata": {},
   "outputs": [],
   "source": [
    "sub_df.to_csv('Shanghai-Museum2017.csv')"
   ]
  },
  {
   "cell_type": "code",
   "execution_count": null,
   "metadata": {},
   "outputs": [],
   "source": []
  },
  {
   "cell_type": "code",
   "execution_count": null,
   "metadata": {},
   "outputs": [],
   "source": []
  },
  {
   "cell_type": "code",
   "execution_count": null,
   "metadata": {},
   "outputs": [],
   "source": []
  },
  {
   "cell_type": "code",
   "execution_count": null,
   "metadata": {},
   "outputs": [],
   "source": []
  },
  {
   "cell_type": "code",
   "execution_count": null,
   "metadata": {},
   "outputs": [],
   "source": []
  },
  {
   "cell_type": "code",
   "execution_count": null,
   "metadata": {},
   "outputs": [],
   "source": []
  },
  {
   "cell_type": "code",
   "execution_count": null,
   "metadata": {},
   "outputs": [],
   "source": []
  },
  {
   "cell_type": "code",
   "execution_count": null,
   "metadata": {},
   "outputs": [],
   "source": []
  },
  {
   "cell_type": "code",
   "execution_count": null,
   "metadata": {},
   "outputs": [],
   "source": []
  }
 ],
 "metadata": {
  "kernelspec": {
   "display_name": "Python 3",
   "language": "python",
   "name": "python3"
  },
  "language_info": {
   "codemirror_mode": {
    "name": "ipython",
    "version": 3
   },
   "file_extension": ".py",
   "mimetype": "text/x-python",
   "name": "python",
   "nbconvert_exporter": "python",
   "pygments_lexer": "ipython3",
   "version": "3.7.3"
  }
 },
 "nbformat": 4,
 "nbformat_minor": 4
}
